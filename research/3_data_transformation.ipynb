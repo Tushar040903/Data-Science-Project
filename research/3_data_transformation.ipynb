{
 "cells": [
  {
   "cell_type": "code",
   "execution_count": 1,
   "metadata": {},
   "outputs": [],
   "source": [
    "import os"
   ]
  },
  {
   "cell_type": "code",
   "execution_count": 2,
   "metadata": {},
   "outputs": [
    {
     "data": {
      "text/plain": [
       "'c:\\\\Users\\\\tusha\\\\OneDrive\\\\Desktop\\\\Data-Science-Project\\\\research'"
      ]
     },
     "execution_count": 2,
     "metadata": {},
     "output_type": "execute_result"
    }
   ],
   "source": [
    "%pwd"
   ]
  },
  {
   "cell_type": "code",
   "execution_count": 3,
   "metadata": {},
   "outputs": [],
   "source": [
    "os.chdir('../')"
   ]
  },
  {
   "cell_type": "code",
   "execution_count": 4,
   "metadata": {},
   "outputs": [
    {
     "data": {
      "text/plain": [
       "'c:\\\\Users\\\\tusha\\\\OneDrive\\\\Desktop\\\\Data-Science-Project'"
      ]
     },
     "execution_count": 4,
     "metadata": {},
     "output_type": "execute_result"
    }
   ],
   "source": [
    "%pwd"
   ]
  },
  {
   "cell_type": "code",
   "execution_count": 5,
   "metadata": {},
   "outputs": [],
   "source": [
    "from dataclasses import dataclass\n",
    "from pathlib import Path\n",
    "\n",
    "@dataclass\n",
    "class DataTransformationConfig:\n",
    "    root_dir: Path\n",
    "    input_file: Path"
   ]
  },
  {
   "cell_type": "code",
   "execution_count": 6,
   "metadata": {},
   "outputs": [],
   "source": [
    "from src.datascience.constant import *\n",
    "from src.datascience.utils.comman import read_yaml, create_directories"
   ]
  },
  {
   "cell_type": "code",
   "execution_count": 7,
   "metadata": {},
   "outputs": [],
   "source": [
    "class ConfigurationManager:\n",
    "    def __init__(self,\n",
    "                 config_filepath: str = CONFIG_FILE_PATH,  # Ensure these variables are defined\n",
    "                 params_filepath: str = PARAMS_FILE_PATH,\n",
    "                 schema_filepath: str = SCHEMA_FILE_PATH):\n",
    "\n",
    "        self.config = read_yaml(config_filepath)\n",
    "        self.params = read_yaml(params_filepath)\n",
    "        self.schema = read_yaml(schema_filepath)\n",
    "\n",
    "        create_directories([self.config[\"artifacts_root\"]])\n",
    "\n",
    "    def get_data_transformation_config(self) -> DataTransformationConfig:\n",
    "        config = self.config[\"data_transformation\"]\n",
    "        create_directories([config[\"root_dir\"]])  # Ensure the correct key format\n",
    "        data_transformation_config = DataTransformationConfig(\n",
    "            root_dir=Path(config[\"root_dir\"]),\n",
    "            input_file=Path(config[\"input_file\"])  # FIXED key reference\n",
    "        )\n",
    "        return data_transformation_config\n"
   ]
  },
  {
   "cell_type": "code",
   "execution_count": 8,
   "metadata": {},
   "outputs": [],
   "source": [
    "import os\n",
    "from src.datascience import logger\n",
    "from sklearn.model_selection import train_test_split\n",
    "import pandas as pd"
   ]
  },
  {
   "cell_type": "code",
   "execution_count": 11,
   "metadata": {},
   "outputs": [],
   "source": [
    "from dataclasses import dataclass\n",
    "from pathlib import Path\n",
    "import os\n",
    "import pandas as pd\n",
    "from sklearn.model_selection import train_test_split\n",
    "from sklearn.compose import ColumnTransformer\n",
    "from sklearn.preprocessing import StandardScaler, OneHotEncoder\n",
    "import joblib\n",
    "import logging\n",
    "\n",
    "logger = logging.getLogger(__name__)\n",
    "\n",
    "@dataclass\n",
    "class DataTransformationConfig:\n",
    "    root_dir: Path\n",
    "    input_file: Path\n",
    "\n",
    "class DataTransformation:\n",
    "    def __init__(self, config: DataTransformationConfig):\n",
    "        self.config = config\n",
    "\n",
    "    def train_test_splitting(self):\n",
    "        data = pd.read_csv(self.config.input_file)\n",
    "        for col in [\"ID\", \"Delivery_person_ID\"]:\n",
    "            if col in data.columns:\n",
    "                data.drop(col, axis=1, inplace=True)\n",
    "        target_column = \"TARGET\"\n",
    "        X = data.drop(target_column, axis=1)\n",
    "        y = data[target_column]\n",
    "        X_train, X_test, y_train, y_test = train_test_split(X, y, test_size=0.2, random_state=42)\n",
    "        \n",
    "        numeric_features = X_train.select_dtypes(include=[\"float64\", \"int\"]).columns.tolist()\n",
    "        categorical_features = X_train.select_dtypes(include=[\"object\"]).columns.tolist()\n",
    "        \n",
    "        preprocessor = ColumnTransformer(\n",
    "            transformers=[\n",
    "                (\"num\", StandardScaler(), numeric_features),\n",
    "                (\"cat\", OneHotEncoder(handle_unknown=\"ignore\"), categorical_features)\n",
    "            ]\n",
    "        )\n",
    "        \n",
    "        X_train_transformed = preprocessor.fit_transform(X_train)\n",
    "        X_test_transformed = preprocessor.transform(X_test)\n",
    "        \n",
    "        cat_feature_names = preprocessor.named_transformers_[\"cat\"].get_feature_names_out(categorical_features)\n",
    "        all_feature_names = numeric_features + cat_feature_names.tolist()\n",
    "        \n",
    "        X_train_df = pd.DataFrame(\n",
    "            X_train_transformed.toarray() if hasattr(X_train_transformed, \"toarray\") else X_train_transformed,\n",
    "            columns=all_feature_names\n",
    "        )\n",
    "        X_train_df[target_column] = y_train.reset_index(drop=True)\n",
    "        \n",
    "        X_test_df = pd.DataFrame(\n",
    "            X_test_transformed.toarray() if hasattr(X_test_transformed, \"toarray\") else X_test_transformed,\n",
    "            columns=all_feature_names\n",
    "        )\n",
    "        X_test_df[target_column] = y_test.reset_index(drop=True)\n",
    "        \n",
    "        os.makedirs(self.config.root_dir, exist_ok=True)\n",
    "        train_path = os.path.join(self.config.root_dir, \"train.csv\")\n",
    "        test_path = os.path.join(self.config.root_dir, \"test.csv\")\n",
    "        X_train_df.to_csv(train_path, index=False)\n",
    "        X_test_df.to_csv(test_path, index=False)\n",
    "        \n",
    "        pipeline_path = os.path.join(self.config.root_dir, \"preprocessor.pkl\")\n",
    "        joblib.dump(preprocessor, pipeline_path)\n",
    "        \n",
    "        logger.info(\"Train and test data split and transformed successfully\")\n",
    "        logger.info(f\"Train shape: {X_train_df.shape}\")\n",
    "        logger.info(f\"Test shape: {X_test_df.shape}\")\n",
    "        print(X_train_df.shape)\n",
    "        print(X_test_df.shape)\n"
   ]
  },
  {
   "cell_type": "code",
   "execution_count": 12,
   "metadata": {},
   "outputs": [
    {
     "name": "stdout",
     "output_type": "stream",
     "text": [
      "[2025-02-13 19:29:05,329: INFO: comman: yaml file: config\\config.yaml loaded successfully]\n",
      "[2025-02-13 19:29:05,332: INFO: comman: yaml file: params.yaml loaded successfully]\n",
      "[2025-02-13 19:29:05,336: INFO: comman: yaml file: schema.yaml loaded successfully]\n",
      "[2025-02-13 19:29:05,338: INFO: comman: created directory at: artifacts]\n",
      "[2025-02-13 19:29:05,340: INFO: comman: created directory at: artifacts/data_transformation]\n",
      "[2025-02-13 19:29:05,640: INFO: 2874940828: Train and test data split and transformed successfully]\n",
      "[2025-02-13 19:29:05,641: INFO: 2874940828: Train shape: (7228, 33)]\n",
      "[2025-02-13 19:29:05,642: INFO: 2874940828: Test shape: (1807, 33)]\n",
      "(7228, 33)\n",
      "(1807, 33)\n"
     ]
    }
   ],
   "source": [
    "# Run the pipeline\n",
    "try:\n",
    "    config = ConfigurationManager()\n",
    "    data_transformation_config = config.get_data_transformation_config()\n",
    "    data_transformation = DataTransformation(config=data_transformation_config)\n",
    "    data_transformation.train_test_splitting()\n",
    "except Exception as e:\n",
    "    logger.error(f\"Failed to run data transformation: {e}\")\n",
    "    raise e"
   ]
  },
  {
   "cell_type": "code",
   "execution_count": null,
   "metadata": {},
   "outputs": [],
   "source": []
  }
 ],
 "metadata": {
  "kernelspec": {
   "display_name": "Python 3",
   "language": "python",
   "name": "python3"
  },
  "language_info": {
   "codemirror_mode": {
    "name": "ipython",
    "version": 3
   },
   "file_extension": ".py",
   "mimetype": "text/x-python",
   "name": "python",
   "nbconvert_exporter": "python",
   "pygments_lexer": "ipython3",
   "version": "3.10.0"
  }
 },
 "nbformat": 4,
 "nbformat_minor": 2
}
