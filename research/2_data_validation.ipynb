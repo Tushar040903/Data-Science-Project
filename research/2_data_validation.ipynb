{
 "cells": [
  {
   "cell_type": "code",
   "execution_count": 1,
   "metadata": {},
   "outputs": [],
   "source": [
    "import os"
   ]
  },
  {
   "cell_type": "code",
   "execution_count": 2,
   "metadata": {},
   "outputs": [
    {
     "data": {
      "text/plain": [
       "'c:\\\\Users\\\\tusha\\\\OneDrive\\\\Desktop\\\\Data-Science-Project\\\\research'"
      ]
     },
     "execution_count": 2,
     "metadata": {},
     "output_type": "execute_result"
    }
   ],
   "source": [
    "%pwd"
   ]
  },
  {
   "cell_type": "code",
   "execution_count": 3,
   "metadata": {},
   "outputs": [],
   "source": [
    "os.chdir(\"../\")"
   ]
  },
  {
   "cell_type": "code",
   "execution_count": 4,
   "metadata": {},
   "outputs": [
    {
     "data": {
      "text/plain": [
       "'c:\\\\Users\\\\tusha\\\\OneDrive\\\\Desktop\\\\Data-Science-Project'"
      ]
     },
     "execution_count": 4,
     "metadata": {},
     "output_type": "execute_result"
    }
   ],
   "source": [
    "%pwd"
   ]
  },
  {
   "cell_type": "code",
   "execution_count": 52,
   "metadata": {},
   "outputs": [
    {
     "data": {
      "text/html": [
       "<div>\n",
       "<style scoped>\n",
       "    .dataframe tbody tr th:only-of-type {\n",
       "        vertical-align: middle;\n",
       "    }\n",
       "\n",
       "    .dataframe tbody tr th {\n",
       "        vertical-align: top;\n",
       "    }\n",
       "\n",
       "    .dataframe thead th {\n",
       "        text-align: right;\n",
       "    }\n",
       "</style>\n",
       "<table border=\"1\" class=\"dataframe\">\n",
       "  <thead>\n",
       "    <tr style=\"text-align: right;\">\n",
       "      <th></th>\n",
       "      <th>ID</th>\n",
       "      <th>Delivery_person_ID</th>\n",
       "      <th>Delivery_person_Age</th>\n",
       "      <th>Delivery_person_Ratings</th>\n",
       "      <th>Restaurant_latitude</th>\n",
       "      <th>Restaurant_longitude</th>\n",
       "      <th>Delivery_location_latitude</th>\n",
       "      <th>Delivery_location_longitude</th>\n",
       "      <th>Type_of_order</th>\n",
       "      <th>Type_of_vehicle</th>\n",
       "      <th>temperature</th>\n",
       "      <th>humidity</th>\n",
       "      <th>precipitation</th>\n",
       "      <th>weather_description</th>\n",
       "      <th>Unnamed: 14</th>\n",
       "      <th>Traffic_Level</th>\n",
       "      <th>Distance (km)</th>\n",
       "      <th>TARGET</th>\n",
       "    </tr>\n",
       "  </thead>\n",
       "  <tbody>\n",
       "    <tr>\n",
       "      <th>0</th>\n",
       "      <td>4607</td>\n",
       "      <td>INDORES13DEL02</td>\n",
       "      <td>37.0</td>\n",
       "      <td>4.9</td>\n",
       "      <td>22.745049</td>\n",
       "      <td>75.892471</td>\n",
       "      <td>22.765049</td>\n",
       "      <td>75.912471</td>\n",
       "      <td>Snack</td>\n",
       "      <td>motorcycle</td>\n",
       "      <td>17.11</td>\n",
       "      <td>77.0</td>\n",
       "      <td>0.0</td>\n",
       "      <td>haze</td>\n",
       "      <td>NaN</td>\n",
       "      <td>Low</td>\n",
       "      <td>NaN</td>\n",
       "      <td>21.66666667</td>\n",
       "    </tr>\n",
       "    <tr>\n",
       "      <th>1</th>\n",
       "      <td>B379</td>\n",
       "      <td>BANGRES18DEL02</td>\n",
       "      <td>34.0</td>\n",
       "      <td>4.5</td>\n",
       "      <td>12.913041</td>\n",
       "      <td>77.683237</td>\n",
       "      <td>13.043041</td>\n",
       "      <td>77.813237</td>\n",
       "      <td>Snack</td>\n",
       "      <td>scooter</td>\n",
       "      <td>19.50</td>\n",
       "      <td>93.0</td>\n",
       "      <td>0.0</td>\n",
       "      <td>mist</td>\n",
       "      <td>NaN</td>\n",
       "      <td>Very High</td>\n",
       "      <td>37.17</td>\n",
       "      <td>85.26666667</td>\n",
       "    </tr>\n",
       "    <tr>\n",
       "      <th>2</th>\n",
       "      <td>5D6D</td>\n",
       "      <td>BANGRES19DEL01</td>\n",
       "      <td>23.0</td>\n",
       "      <td>4.4</td>\n",
       "      <td>12.914264</td>\n",
       "      <td>77.678400</td>\n",
       "      <td>12.924264</td>\n",
       "      <td>77.688400</td>\n",
       "      <td>Drinks</td>\n",
       "      <td>motorcycle</td>\n",
       "      <td>20.45</td>\n",
       "      <td>91.0</td>\n",
       "      <td>0.0</td>\n",
       "      <td>mist</td>\n",
       "      <td>NaN</td>\n",
       "      <td>Low</td>\n",
       "      <td>3.34</td>\n",
       "      <td>28.58333333</td>\n",
       "    </tr>\n",
       "    <tr>\n",
       "      <th>3</th>\n",
       "      <td>7A6A</td>\n",
       "      <td>COIMBRES13DEL02</td>\n",
       "      <td>38.0</td>\n",
       "      <td>4.7</td>\n",
       "      <td>11.003669</td>\n",
       "      <td>76.976494</td>\n",
       "      <td>11.053669</td>\n",
       "      <td>77.026494</td>\n",
       "      <td>Buffet</td>\n",
       "      <td>motorcycle</td>\n",
       "      <td>23.86</td>\n",
       "      <td>78.0</td>\n",
       "      <td>0.0</td>\n",
       "      <td>mist</td>\n",
       "      <td>NaN</td>\n",
       "      <td>Moderate</td>\n",
       "      <td>10.05</td>\n",
       "      <td>35.18333333</td>\n",
       "    </tr>\n",
       "    <tr>\n",
       "      <th>4</th>\n",
       "      <td>70A2</td>\n",
       "      <td>CHENRES12DEL01</td>\n",
       "      <td>32.0</td>\n",
       "      <td>4.6</td>\n",
       "      <td>12.972793</td>\n",
       "      <td>80.249982</td>\n",
       "      <td>13.012793</td>\n",
       "      <td>80.289982</td>\n",
       "      <td>Snack</td>\n",
       "      <td>scooter</td>\n",
       "      <td>26.55</td>\n",
       "      <td>87.0</td>\n",
       "      <td>0.0</td>\n",
       "      <td>mist</td>\n",
       "      <td>NaN</td>\n",
       "      <td>High</td>\n",
       "      <td>9.89</td>\n",
       "      <td>43.45</td>\n",
       "    </tr>\n",
       "  </tbody>\n",
       "</table>\n",
       "</div>"
      ],
      "text/plain": [
       "     ID Delivery_person_ID  Delivery_person_Age  Delivery_person_Ratings  \\\n",
       "0  4607     INDORES13DEL02                 37.0                      4.9   \n",
       "1  B379     BANGRES18DEL02                 34.0                      4.5   \n",
       "2  5D6D     BANGRES19DEL01                 23.0                      4.4   \n",
       "3  7A6A    COIMBRES13DEL02                 38.0                      4.7   \n",
       "4  70A2     CHENRES12DEL01                 32.0                      4.6   \n",
       "\n",
       "   Restaurant_latitude  Restaurant_longitude  Delivery_location_latitude  \\\n",
       "0            22.745049             75.892471                   22.765049   \n",
       "1            12.913041             77.683237                   13.043041   \n",
       "2            12.914264             77.678400                   12.924264   \n",
       "3            11.003669             76.976494                   11.053669   \n",
       "4            12.972793             80.249982                   13.012793   \n",
       "\n",
       "   Delivery_location_longitude Type_of_order Type_of_vehicle  temperature  \\\n",
       "0                    75.912471        Snack      motorcycle         17.11   \n",
       "1                    77.813237        Snack         scooter         19.50   \n",
       "2                    77.688400       Drinks      motorcycle         20.45   \n",
       "3                    77.026494       Buffet      motorcycle         23.86   \n",
       "4                    80.289982        Snack         scooter         26.55   \n",
       "\n",
       "   humidity  precipitation weather_description  Unnamed: 14 Traffic_Level  \\\n",
       "0      77.0            0.0                haze          NaN           Low   \n",
       "1      93.0            0.0                mist          NaN     Very High   \n",
       "2      91.0            0.0                mist          NaN           Low   \n",
       "3      78.0            0.0                mist          NaN      Moderate   \n",
       "4      87.0            0.0                mist          NaN          High   \n",
       "\n",
       "   Distance (km)       TARGET  \n",
       "0            NaN  21.66666667  \n",
       "1          37.17  85.26666667  \n",
       "2           3.34  28.58333333  \n",
       "3          10.05  35.18333333  \n",
       "4           9.89        43.45  "
      ]
     },
     "execution_count": 52,
     "metadata": {},
     "output_type": "execute_result"
    }
   ],
   "source": [
    "import pandas as pd\n",
    "\n",
    "data = pd.read_csv(\"artifacts/data_ingestion/Food_Time_Data_Set.csv\")\n",
    "data.head()"
   ]
  },
  {
   "cell_type": "code",
   "execution_count": 57,
   "metadata": {},
   "outputs": [
    {
     "name": "stdout",
     "output_type": "stream",
     "text": [
      "<class 'pandas.core.frame.DataFrame'>\n",
      "RangeIndex: 10001 entries, 0 to 10000\n",
      "Data columns (total 18 columns):\n",
      " #   Column                       Non-Null Count  Dtype  \n",
      "---  ------                       --------------  -----  \n",
      " 0   ID                           10000 non-null  object \n",
      " 1   Delivery_person_ID           10000 non-null  object \n",
      " 2   Delivery_person_Age          10000 non-null  float64\n",
      " 3   Delivery_person_Ratings      10000 non-null  float64\n",
      " 4   Restaurant_latitude          10000 non-null  float64\n",
      " 5   Restaurant_longitude         10000 non-null  float64\n",
      " 6   Delivery_location_latitude   10000 non-null  float64\n",
      " 7   Delivery_location_longitude  10000 non-null  float64\n",
      " 8   Type_of_order                10000 non-null  object \n",
      " 9   Type_of_vehicle              10000 non-null  object \n",
      " 10  temperature                  9995 non-null   float64\n",
      " 11  humidity                     9995 non-null   float64\n",
      " 12  precipitation                9995 non-null   float64\n",
      " 13  weather_description          9995 non-null   object \n",
      " 14  Unnamed: 14                  0 non-null      float64\n",
      " 15  Traffic_Level                9085 non-null   object \n",
      " 16  Distance (km)                9080 non-null   float64\n",
      " 17  TARGET                       9459 non-null   object \n",
      "dtypes: float64(11), object(7)\n",
      "memory usage: 1.4+ MB\n"
     ]
    }
   ],
   "source": [
    "data.info()"
   ]
  },
  {
   "cell_type": "code",
   "execution_count": 58,
   "metadata": {},
   "outputs": [
    {
     "data": {
      "text/plain": [
       "ID                                 1\n",
       "Delivery_person_ID                 1\n",
       "Delivery_person_Age                1\n",
       "Delivery_person_Ratings            1\n",
       "Restaurant_latitude                1\n",
       "Restaurant_longitude               1\n",
       "Delivery_location_latitude         1\n",
       "Delivery_location_longitude        1\n",
       "Type_of_order                      1\n",
       "Type_of_vehicle                    1\n",
       "temperature                        6\n",
       "humidity                           6\n",
       "precipitation                      6\n",
       "weather_description                6\n",
       "Unnamed: 14                    10001\n",
       "Traffic_Level                    916\n",
       "Distance (km)                    921\n",
       "TARGET                           542\n",
       "dtype: int64"
      ]
     },
     "execution_count": 58,
     "metadata": {},
     "output_type": "execute_result"
    }
   ],
   "source": [
    "data.isnull().sum()"
   ]
  },
  {
   "cell_type": "code",
   "execution_count": 66,
   "metadata": {},
   "outputs": [
    {
     "data": {
      "text/plain": [
       "(10001, 18)"
      ]
     },
     "execution_count": 66,
     "metadata": {},
     "output_type": "execute_result"
    }
   ],
   "source": [
    "\n",
    "data.shape"
   ]
  },
  {
   "cell_type": "code",
   "execution_count": 79,
   "metadata": {},
   "outputs": [],
   "source": [
    "from dataclasses import dataclass\n",
    "from pathlib import Path\n",
    "@dataclass\n",
    "class DataValidationConfig:\n",
    "    root_dir: Path\n",
    "    STATUS_FILE: str\n",
    "    unzip_dir: Path\n",
    "    all_schema: dict"
   ]
  },
  {
   "cell_type": "code",
   "execution_count": 80,
   "metadata": {},
   "outputs": [],
   "source": [
    "from src.datascience.constant import *\n",
    "from src.datascience.utils.comman import read_yaml, create_directories"
   ]
  },
  {
   "cell_type": "code",
   "execution_count": 81,
   "metadata": {},
   "outputs": [],
   "source": [
    "class ConfigurationManager:\n",
    "    def __init__(self,\n",
    "                 config_filepath: str = CONFIG_FILE_PATH,\n",
    "                 params_filepath: str = PARAMS_FILE_PATH,\n",
    "                 schema_filepath: str = SCHEMA_FILE_PATH):\n",
    "\n",
    "        self.config = read_yaml(config_filepath)\n",
    "        self.params = read_yaml(params_filepath)\n",
    "        self.schema = read_yaml(schema_filepath)\n",
    "\n",
    "        create_directories([self.config[\"artifacts_root\"]])\n",
    "\n",
    "    def get_data_validation_config(self) -> DataValidationConfig:\n",
    "        config = self.config[\"data_validation\"]\n",
    "        schema = self.schema[\"COLUMNS\"]\n",
    "\n",
    "        create_directories([config[\"root_dir\"]])\n",
    "\n",
    "        data_validation_config = DataValidationConfig(\n",
    "            root_dir=config[\"root_dir\"],\n",
    "            STATUS_FILE=config[\"STATUS_FILE\"],\n",
    "            unzip_dir =config[\"unzip_dir\"],\n",
    "            all_schema=schema\n",
    "        )\n",
    "        return data_validation_config\n"
   ]
  },
  {
   "cell_type": "code",
   "execution_count": 82,
   "metadata": {},
   "outputs": [],
   "source": [
    "import os\n",
    "from src.datascience import logger"
   ]
  },
  {
   "cell_type": "code",
   "execution_count": 83,
   "metadata": {},
   "outputs": [],
   "source": [
    "import pandas as pd\n",
    "\n",
    "class DataValidation:\n",
    "    def __init__(self, config: DataValidationConfig):\n",
    "        self.config = config\n",
    "\n",
    "    def validate_all_columns(self) -> bool:\n",
    "        try:\n",
    "            validation_status = True  # Default to True\n",
    "\n",
    "            data = pd.read_csv(self.config.unzip_dir)\n",
    "            all_cols = list(data.columns)\n",
    "\n",
    "            all_schema = self.config.all_schema.keys()\n",
    "\n",
    "            for col in all_cols:\n",
    "                if col not in all_schema:\n",
    "                    validation_status = False # No need to continue checking once invalid column found\n",
    "\n",
    "            with open(self.config.STATUS_FILE, \"w\") as file:\n",
    "                file.write(f\"Validation status: {validation_status}\")\n",
    "\n",
    "            return validation_status\n",
    "\n",
    "        except Exception as e:\n",
    "            raise e\n"
   ]
  },
  {
   "cell_type": "code",
   "execution_count": 84,
   "metadata": {},
   "outputs": [
    {
     "name": "stdout",
     "output_type": "stream",
     "text": [
      "[2025-02-11 19:16:22,900: INFO: comman: yaml file: config\\config.yaml loaded successfully]\n",
      "[2025-02-11 19:16:22,905: INFO: comman: yaml file: params.yaml loaded successfully]\n",
      "[2025-02-11 19:16:22,911: INFO: comman: yaml file: schema.yaml loaded successfully]\n",
      "[2025-02-11 19:16:22,916: INFO: comman: created directory at: artifacts]\n",
      "[2025-02-11 19:16:22,919: INFO: comman: created directory at: artifacts/data_validation]\n"
     ]
    }
   ],
   "source": [
    "try:\n",
    "    config = ConfigurationManager()\n",
    "    data_validation_config = config.get_data_validation_config()\n",
    "    data_validation = DataValidation(data_validation_config)\n",
    "    data_validation.validate_all_columns()\n",
    "except Exception as e:\n",
    "        raise e"
   ]
  },
  {
   "cell_type": "code",
   "execution_count": null,
   "metadata": {},
   "outputs": [],
   "source": []
  }
 ],
 "metadata": {
  "kernelspec": {
   "display_name": "Python 3",
   "language": "python",
   "name": "python3"
  },
  "language_info": {
   "codemirror_mode": {
    "name": "ipython",
    "version": 3
   },
   "file_extension": ".py",
   "mimetype": "text/x-python",
   "name": "python",
   "nbconvert_exporter": "python",
   "pygments_lexer": "ipython3",
   "version": "3.10.0"
  }
 },
 "nbformat": 4,
 "nbformat_minor": 2
}
