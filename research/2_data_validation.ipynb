{
 "cells": [
  {
   "cell_type": "code",
   "execution_count": 1,
   "metadata": {},
   "outputs": [],
   "source": [
    "import os"
   ]
  },
  {
   "cell_type": "code",
   "execution_count": 2,
   "metadata": {},
   "outputs": [
    {
     "data": {
      "text/plain": [
       "'c:\\\\Users\\\\tusha\\\\OneDrive\\\\Desktop\\\\Data-Science-Project\\\\research'"
      ]
     },
     "execution_count": 2,
     "metadata": {},
     "output_type": "execute_result"
    }
   ],
   "source": [
    "%pwd"
   ]
  },
  {
   "cell_type": "code",
   "execution_count": 3,
   "metadata": {},
   "outputs": [],
   "source": [
    "os.chdir(\"../\")"
   ]
  },
  {
   "cell_type": "code",
   "execution_count": 4,
   "metadata": {},
   "outputs": [
    {
     "data": {
      "text/plain": [
       "'c:\\\\Users\\\\tusha\\\\OneDrive\\\\Desktop\\\\Data-Science-Project'"
      ]
     },
     "execution_count": 4,
     "metadata": {},
     "output_type": "execute_result"
    }
   ],
   "source": [
    "%pwd"
   ]
  },
  {
   "cell_type": "code",
   "execution_count": 5,
   "metadata": {},
   "outputs": [
    {
     "data": {
      "text/html": [
       "<div>\n",
       "<style scoped>\n",
       "    .dataframe tbody tr th:only-of-type {\n",
       "        vertical-align: middle;\n",
       "    }\n",
       "\n",
       "    .dataframe tbody tr th {\n",
       "        vertical-align: top;\n",
       "    }\n",
       "\n",
       "    .dataframe thead th {\n",
       "        text-align: right;\n",
       "    }\n",
       "</style>\n",
       "<table border=\"1\" class=\"dataframe\">\n",
       "  <thead>\n",
       "    <tr style=\"text-align: right;\">\n",
       "      <th></th>\n",
       "      <th>ID</th>\n",
       "      <th>Delivery_person_ID</th>\n",
       "      <th>Delivery_person_Age</th>\n",
       "      <th>Delivery_person_Ratings</th>\n",
       "      <th>Restaurant_latitude</th>\n",
       "      <th>Restaurant_longitude</th>\n",
       "      <th>Delivery_location_latitude</th>\n",
       "      <th>Delivery_location_longitude</th>\n",
       "      <th>Type_of_order</th>\n",
       "      <th>Type_of_vehicle</th>\n",
       "      <th>temperature</th>\n",
       "      <th>humidity</th>\n",
       "      <th>precipitation</th>\n",
       "      <th>weather_description</th>\n",
       "      <th>Traffic_Level</th>\n",
       "      <th>Distance (km)</th>\n",
       "      <th>TARGET</th>\n",
       "    </tr>\n",
       "  </thead>\n",
       "  <tbody>\n",
       "    <tr>\n",
       "      <th>0</th>\n",
       "      <td>B379</td>\n",
       "      <td>BANGRES18DEL02</td>\n",
       "      <td>34.0</td>\n",
       "      <td>4.5</td>\n",
       "      <td>12.913041</td>\n",
       "      <td>77.683237</td>\n",
       "      <td>13.043041</td>\n",
       "      <td>77.813237</td>\n",
       "      <td>Snack</td>\n",
       "      <td>scooter</td>\n",
       "      <td>19.50</td>\n",
       "      <td>93.0</td>\n",
       "      <td>0.0</td>\n",
       "      <td>mist</td>\n",
       "      <td>Very High</td>\n",
       "      <td>37.17</td>\n",
       "      <td>85.266667</td>\n",
       "    </tr>\n",
       "    <tr>\n",
       "      <th>1</th>\n",
       "      <td>5D6D</td>\n",
       "      <td>BANGRES19DEL01</td>\n",
       "      <td>23.0</td>\n",
       "      <td>4.4</td>\n",
       "      <td>12.914264</td>\n",
       "      <td>77.678400</td>\n",
       "      <td>12.924264</td>\n",
       "      <td>77.688400</td>\n",
       "      <td>Drinks</td>\n",
       "      <td>motorcycle</td>\n",
       "      <td>20.45</td>\n",
       "      <td>91.0</td>\n",
       "      <td>0.0</td>\n",
       "      <td>mist</td>\n",
       "      <td>Low</td>\n",
       "      <td>3.34</td>\n",
       "      <td>28.583333</td>\n",
       "    </tr>\n",
       "    <tr>\n",
       "      <th>2</th>\n",
       "      <td>7A6A</td>\n",
       "      <td>COIMBRES13DEL02</td>\n",
       "      <td>38.0</td>\n",
       "      <td>4.7</td>\n",
       "      <td>11.003669</td>\n",
       "      <td>76.976494</td>\n",
       "      <td>11.053669</td>\n",
       "      <td>77.026494</td>\n",
       "      <td>Buffet</td>\n",
       "      <td>motorcycle</td>\n",
       "      <td>23.86</td>\n",
       "      <td>78.0</td>\n",
       "      <td>0.0</td>\n",
       "      <td>mist</td>\n",
       "      <td>Moderate</td>\n",
       "      <td>10.05</td>\n",
       "      <td>35.183333</td>\n",
       "    </tr>\n",
       "    <tr>\n",
       "      <th>3</th>\n",
       "      <td>70A2</td>\n",
       "      <td>CHENRES12DEL01</td>\n",
       "      <td>32.0</td>\n",
       "      <td>4.6</td>\n",
       "      <td>12.972793</td>\n",
       "      <td>80.249982</td>\n",
       "      <td>13.012793</td>\n",
       "      <td>80.289982</td>\n",
       "      <td>Snack</td>\n",
       "      <td>scooter</td>\n",
       "      <td>26.55</td>\n",
       "      <td>87.0</td>\n",
       "      <td>0.0</td>\n",
       "      <td>mist</td>\n",
       "      <td>High</td>\n",
       "      <td>9.89</td>\n",
       "      <td>43.450000</td>\n",
       "    </tr>\n",
       "    <tr>\n",
       "      <th>4</th>\n",
       "      <td>9BB4</td>\n",
       "      <td>HYDRES09DEL03</td>\n",
       "      <td>22.0</td>\n",
       "      <td>4.8</td>\n",
       "      <td>17.431668</td>\n",
       "      <td>78.408321</td>\n",
       "      <td>17.461668</td>\n",
       "      <td>78.438321</td>\n",
       "      <td>Buffet</td>\n",
       "      <td>motorcycle</td>\n",
       "      <td>21.43</td>\n",
       "      <td>65.0</td>\n",
       "      <td>0.0</td>\n",
       "      <td>broken clouds</td>\n",
       "      <td>Moderate</td>\n",
       "      <td>11.30</td>\n",
       "      <td>30.600000</td>\n",
       "    </tr>\n",
       "  </tbody>\n",
       "</table>\n",
       "</div>"
      ],
      "text/plain": [
       "     ID Delivery_person_ID  Delivery_person_Age  Delivery_person_Ratings  \\\n",
       "0  B379     BANGRES18DEL02                 34.0                      4.5   \n",
       "1  5D6D     BANGRES19DEL01                 23.0                      4.4   \n",
       "2  7A6A    COIMBRES13DEL02                 38.0                      4.7   \n",
       "3  70A2     CHENRES12DEL01                 32.0                      4.6   \n",
       "4  9BB4      HYDRES09DEL03                 22.0                      4.8   \n",
       "\n",
       "   Restaurant_latitude  Restaurant_longitude  Delivery_location_latitude  \\\n",
       "0            12.913041             77.683237                   13.043041   \n",
       "1            12.914264             77.678400                   12.924264   \n",
       "2            11.003669             76.976494                   11.053669   \n",
       "3            12.972793             80.249982                   13.012793   \n",
       "4            17.431668             78.408321                   17.461668   \n",
       "\n",
       "   Delivery_location_longitude Type_of_order Type_of_vehicle  temperature  \\\n",
       "0                    77.813237        Snack         scooter         19.50   \n",
       "1                    77.688400       Drinks      motorcycle         20.45   \n",
       "2                    77.026494       Buffet      motorcycle         23.86   \n",
       "3                    80.289982        Snack         scooter         26.55   \n",
       "4                    78.438321       Buffet      motorcycle         21.43   \n",
       "\n",
       "   humidity  precipitation weather_description Traffic_Level  Distance (km)  \\\n",
       "0      93.0            0.0                mist     Very High          37.17   \n",
       "1      91.0            0.0                mist           Low           3.34   \n",
       "2      78.0            0.0                mist      Moderate          10.05   \n",
       "3      87.0            0.0                mist          High           9.89   \n",
       "4      65.0            0.0       broken clouds      Moderate          11.30   \n",
       "\n",
       "      TARGET  \n",
       "0  85.266667  \n",
       "1  28.583333  \n",
       "2  35.183333  \n",
       "3  43.450000  \n",
       "4  30.600000  "
      ]
     },
     "execution_count": 5,
     "metadata": {},
     "output_type": "execute_result"
    }
   ],
   "source": [
    "import pandas as pd\n",
    "\n",
    "data = pd.read_csv(\"artifacts/data_ingestion/Food_Time_Data_Set.csv\")\n",
    "data.head()"
   ]
  },
  {
   "cell_type": "code",
   "execution_count": 6,
   "metadata": {},
   "outputs": [
    {
     "name": "stdout",
     "output_type": "stream",
     "text": [
      "<class 'pandas.core.frame.DataFrame'>\n",
      "RangeIndex: 9035 entries, 0 to 9034\n",
      "Data columns (total 17 columns):\n",
      " #   Column                       Non-Null Count  Dtype  \n",
      "---  ------                       --------------  -----  \n",
      " 0   ID                           9035 non-null   object \n",
      " 1   Delivery_person_ID           9035 non-null   object \n",
      " 2   Delivery_person_Age          9035 non-null   float64\n",
      " 3   Delivery_person_Ratings      9035 non-null   float64\n",
      " 4   Restaurant_latitude          9035 non-null   float64\n",
      " 5   Restaurant_longitude         9035 non-null   float64\n",
      " 6   Delivery_location_latitude   9035 non-null   float64\n",
      " 7   Delivery_location_longitude  9035 non-null   float64\n",
      " 8   Type_of_order                9035 non-null   object \n",
      " 9   Type_of_vehicle              9035 non-null   object \n",
      " 10  temperature                  9035 non-null   float64\n",
      " 11  humidity                     9035 non-null   float64\n",
      " 12  precipitation                9035 non-null   float64\n",
      " 13  weather_description          9035 non-null   object \n",
      " 14  Traffic_Level                9035 non-null   object \n",
      " 15  Distance (km)                9035 non-null   float64\n",
      " 16  TARGET                       9035 non-null   float64\n",
      "dtypes: float64(11), object(6)\n",
      "memory usage: 1.2+ MB\n"
     ]
    }
   ],
   "source": [
    "data.info()"
   ]
  },
  {
   "cell_type": "code",
   "execution_count": 7,
   "metadata": {},
   "outputs": [
    {
     "data": {
      "text/plain": [
       "ID                             0\n",
       "Delivery_person_ID             0\n",
       "Delivery_person_Age            0\n",
       "Delivery_person_Ratings        0\n",
       "Restaurant_latitude            0\n",
       "Restaurant_longitude           0\n",
       "Delivery_location_latitude     0\n",
       "Delivery_location_longitude    0\n",
       "Type_of_order                  0\n",
       "Type_of_vehicle                0\n",
       "temperature                    0\n",
       "humidity                       0\n",
       "precipitation                  0\n",
       "weather_description            0\n",
       "Traffic_Level                  0\n",
       "Distance (km)                  0\n",
       "TARGET                         0\n",
       "dtype: int64"
      ]
     },
     "execution_count": 7,
     "metadata": {},
     "output_type": "execute_result"
    }
   ],
   "source": [
    "data.isnull().sum()"
   ]
  },
  {
   "cell_type": "code",
   "execution_count": 8,
   "metadata": {},
   "outputs": [
    {
     "data": {
      "text/plain": [
       "(9035, 17)"
      ]
     },
     "execution_count": 8,
     "metadata": {},
     "output_type": "execute_result"
    }
   ],
   "source": [
    "\n",
    "data.shape"
   ]
  },
  {
   "cell_type": "code",
   "execution_count": 9,
   "metadata": {},
   "outputs": [],
   "source": [
    "from dataclasses import dataclass\n",
    "from pathlib import Path\n",
    "@dataclass\n",
    "class DataValidationConfig:\n",
    "    root_dir: Path\n",
    "    STATUS_FILE: str\n",
    "    unzip_dir: Path\n",
    "    all_schema: dict"
   ]
  },
  {
   "cell_type": "code",
   "execution_count": 10,
   "metadata": {},
   "outputs": [],
   "source": [
    "from src.datascience.constant import *\n",
    "from src.datascience.utils.comman import read_yaml, create_directories"
   ]
  },
  {
   "cell_type": "code",
   "execution_count": 11,
   "metadata": {},
   "outputs": [],
   "source": [
    "class ConfigurationManager:\n",
    "    def __init__(self,\n",
    "                 config_filepath: str = CONFIG_FILE_PATH,\n",
    "                 params_filepath: str = PARAMS_FILE_PATH,\n",
    "                 schema_filepath: str = SCHEMA_FILE_PATH):\n",
    "\n",
    "        self.config = read_yaml(config_filepath)\n",
    "        self.params = read_yaml(params_filepath)\n",
    "        self.schema = read_yaml(schema_filepath)\n",
    "\n",
    "        create_directories([self.config[\"artifacts_root\"]])\n",
    "\n",
    "    def get_data_validation_config(self) -> DataValidationConfig:\n",
    "        config = self.config[\"data_validation\"]\n",
    "        schema = self.schema[\"COLUMNS\"]\n",
    "\n",
    "        create_directories([config[\"root_dir\"]])\n",
    "\n",
    "        data_validation_config = DataValidationConfig(\n",
    "            root_dir=config[\"root_dir\"],\n",
    "            STATUS_FILE=config[\"STATUS_FILE\"],\n",
    "            unzip_dir =config[\"unzip_dir\"],\n",
    "            all_schema=schema\n",
    "        )\n",
    "        return data_validation_config\n"
   ]
  },
  {
   "cell_type": "code",
   "execution_count": 12,
   "metadata": {},
   "outputs": [],
   "source": [
    "import os\n",
    "from src.datascience import logger"
   ]
  },
  {
   "cell_type": "code",
   "execution_count": 13,
   "metadata": {},
   "outputs": [],
   "source": [
    "import pandas as pd\n",
    "\n",
    "class DataValidation:\n",
    "    def __init__(self, config: DataValidationConfig):\n",
    "        self.config = config\n",
    "\n",
    "    def validate_all_columns(self) -> bool:\n",
    "        try:\n",
    "            validation_status = True  # Default to True\n",
    "\n",
    "            data = pd.read_csv(self.config.unzip_dir)\n",
    "            all_cols = list(data.columns)\n",
    "\n",
    "            all_schema = self.config.all_schema.keys()\n",
    "\n",
    "            for col in all_cols:\n",
    "                if col not in all_schema:\n",
    "                    validation_status = False # No need to continue checking once invalid column found\n",
    "\n",
    "            with open(self.config.STATUS_FILE, \"w\") as file:\n",
    "                file.write(f\"Validation status: {validation_status}\")\n",
    "\n",
    "            return validation_status\n",
    "\n",
    "        except Exception as e:\n",
    "            raise e\n"
   ]
  },
  {
   "cell_type": "code",
   "execution_count": 18,
   "metadata": {},
   "outputs": [
    {
     "name": "stdout",
     "output_type": "stream",
     "text": [
      "[2025-02-12 19:35:19,181: INFO: comman: yaml file: config\\config.yaml loaded successfully]\n",
      "[2025-02-12 19:35:19,184: INFO: comman: yaml file: params.yaml loaded successfully]\n",
      "[2025-02-12 19:35:19,203: INFO: comman: yaml file: schema.yaml loaded successfully]\n",
      "[2025-02-12 19:35:19,206: INFO: comman: created directory at: artifacts]\n",
      "[2025-02-12 19:35:19,208: INFO: comman: created directory at: artifacts/data_validation]\n"
     ]
    }
   ],
   "source": [
    "try:\n",
    "    config = ConfigurationManager()\n",
    "    data_validation_config = config.get_data_validation_config()\n",
    "    data_validation = DataValidation(data_validation_config)\n",
    "    data_validation.validate_all_columns()\n",
    "except Exception as e:\n",
    "    raise e"
   ]
  },
  {
   "cell_type": "code",
   "execution_count": null,
   "metadata": {},
   "outputs": [],
   "source": []
  }
 ],
 "metadata": {
  "kernelspec": {
   "display_name": "Python 3",
   "language": "python",
   "name": "python3"
  },
  "language_info": {
   "codemirror_mode": {
    "name": "ipython",
    "version": 3
   },
   "file_extension": ".py",
   "mimetype": "text/x-python",
   "name": "python",
   "nbconvert_exporter": "python",
   "pygments_lexer": "ipython3",
   "version": "3.10.0"
  }
 },
 "nbformat": 4,
 "nbformat_minor": 2
}
